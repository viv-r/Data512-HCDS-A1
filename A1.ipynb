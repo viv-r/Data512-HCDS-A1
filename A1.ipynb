{
 "cells": [
  {
   "cell_type": "markdown",
   "metadata": {},
   "source": [
    "### Step 1: Data acquisition\n",
    "\n",
    "This section of code collects metrics from two different API endpoints, the Legacy Pagecounts API and the Pageviews API.\n",
    "The JSON responses are stored into separte files in the data-raw folder."
   ]
  },
  {
   "cell_type": "code",
   "execution_count": 1,
   "metadata": {},
   "outputs": [],
   "source": [
    "import requests, json\n",
    "\n",
    "start, end = '2007120100', '2018090100'\n",
    "site = 'en.wikipedia.org'\n",
    "common = 'https://wikimedia.org/api/rest_v1/metrics'\n",
    "raw_data_path = './data-raw/'\n",
    "\n",
    "filenames = [\n",
    "    f'pagecounts_desktop-site_{start}-{end}',\n",
    "    f'pagecounts_mobile-site_{start}-{end}',\n",
    "    f'pageviews_mobile-web_{start}-{end}',\n",
    "    f'pageviews_mobile-app_{start}-{end}',\n",
    "    f'pageviews_desktop_{start}-{end}'\n",
    "]\n",
    "apis = [\n",
    "    f'{common}/legacy/pagecounts/aggregate/{site}/desktop-site/monthly/{start}/{end}',\n",
    "    f'{common}/legacy/pagecounts/aggregate/{site}/mobile-site/monthly/{start}/{end}',\n",
    "    f'{common}/pageviews/aggregate/{site}/mobile-web/user/monthly/{start}/{end}',\n",
    "    f'{common}/pageviews/aggregate/{site}/mobile-app/user/monthly/{start}/{end}',\n",
    "    f'{common}/pageviews/aggregate/{site}/desktop/user/monthly/{start}/{end}'\n",
    "]\n",
    "headers = {\n",
    "    'user-agent': 'https://github.com/viv-r',\n",
    "    'from': 'vivr@uw.edu'\n",
    "}\n",
    "\n",
    "for file, api in zip(filenames, apis):\n",
    "    response = requests.get(headers=headers, url=api)\n",
    "    if not response.ok:\n",
    "        print(f'Request {api} failed')\n",
    "        \n",
    "    with open(raw_data_path + file, 'w+') as f:\n",
    "        f.write(json.dumps(response.json()['items']))"
   ]
  },
  {
   "cell_type": "markdown",
   "metadata": {},
   "source": [
    "### Step 2. Data processing\n",
    "\n",
    "This section merges the 5 files generated above and transforms the columns into a format that we require for analysis."
   ]
  },
  {
   "cell_type": "code",
   "execution_count": null,
   "metadata": {},
   "outputs": [],
   "source": [
    "import pandas as pd\n",
    "\n",
    "def read(i):\n",
    "    return pd.read_json(raw_data_path + filenames[i], convert_dates=False)\n",
    "\n",
    "datasets = dict(\n",
    "    pagecount_desktop_views = read(0),\n",
    "    pagecount_mobile_views = read(1),\n",
    "    pageview_mobileapp_views = read(2),\n",
    "    pageview_mobileweb_views = read(3),\n",
    "    pageview_desktop_views = read(4),\n",
    ")\n",
    "\n",
    "series = []\n",
    "\n",
    "for k in datasets:\n",
    "    datasets[k].index = datasets[k]['timestamp'].astype(str).str.slice(0, 6)\n",
    "    colname = 'views' if 'views' in datasets[k].columns else 'count'\n",
    "    series.append(datasets[k][[colname]].rename({'views': k, 'count': k}, axis=1))\n",
    "    \n",
    "cleaned = pd.concat(series, axis=1).fillna(0)\n",
    "cleaned['year'] = cleaned.index.str.slice(0, 4)\n",
    "cleaned['month'] = cleaned.index.str.slice(4, 6)\n",
    "cleaned['pageview_mobile_views'] = cleaned.pageview_mobileweb_views + cleaned.pageview_mobileapp_views\n",
    "cleaned['pageview_mobile_views'] = cleaned.pageview_mobileweb_views + cleaned.pageview_mobileapp_views\n",
    "cleaned['pageview_all_views'] = cleaned.pageview_mobile_views + cleaned.pageview_desktop_views\n",
    "cleaned['pagecount_all_views'] = cleaned.pagecount_desktop_views + cleaned.pagecount_mobile_views\n",
    "cleaned = cleaned.drop(['pageview_mobileapp_views', 'pageview_mobileweb_views'], axis=1)\n",
    "cleaned.to_csv(f'./data-cleaned/en-wikipedia_traffic_{start}-{end}.csv')\n",
    "\n",
    "cleaned.head()"
   ]
  },
  {
   "cell_type": "markdown",
   "metadata": {},
   "source": [
    "### Step 3: Analysis\n",
    "\n",
    "We generate a plot of the datset. Mobile and Desktop views are shown as dotted green and blue lines respectively. Total counts are in black."
   ]
  },
  {
   "cell_type": "code",
   "execution_count": null,
   "metadata": {},
   "outputs": [],
   "source": [
    "import matplotlib.pyplot as plt\n",
    "%matplotlib inline\n",
    "\n",
    "x = pd.date_range('2007-12', '2018-09', freq='M')\n",
    "fig = plt.figure(figsize=(18, 10))\n",
    "plt.plot(x, cleaned['pagecount_desktop_views'], 'b:')\n",
    "plt.plot(x, cleaned['pagecount_mobile_views'], 'g:')\n",
    "plt.plot(x, cleaned['pageview_desktop_views'], 'b:')\n",
    "plt.plot(x, cleaned['pageview_mobile_views'], 'g:')\n",
    "plt.plot(x, cleaned['pageview_all_views'] , 'k')\n",
    "plt.plot(x, cleaned['pagecount_all_views'], 'k')\n",
    "plt.xlabel('Date')\n",
    "plt.ylabel('Views')\n",
    "plt.legend()\n",
    "plt.show()\n",
    "plt.savefig('views_graph.jpg')"
   ]
  },
  {
   "cell_type": "code",
   "execution_count": null,
   "metadata": {},
   "outputs": [],
   "source": []
  }
 ],
 "metadata": {
  "kernelspec": {
   "display_name": "Python 3",
   "language": "python",
   "name": "python3"
  },
  "language_info": {
   "codemirror_mode": {
    "name": "ipython",
    "version": 3
   },
   "file_extension": ".py",
   "mimetype": "text/x-python",
   "name": "python",
   "nbconvert_exporter": "python",
   "pygments_lexer": "ipython3",
   "version": "3.6.2"
  }
 },
 "nbformat": 4,
 "nbformat_minor": 2
}
